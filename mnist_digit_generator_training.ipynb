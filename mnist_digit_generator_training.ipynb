{
  "nbformat": 4,
  "nbformat_minor": 0,
  "metadata": {
    "colab": {
      "provenance": [],
      "gpuType": "T4"
    },
    "kernelspec": {
      "name": "python3",
      "display_name": "Python 3"
    },
    "language_info": {
      "name": "python"
    },
    "accelerator": "GPU"
  },
  "cells": [
    {
      "cell_type": "code",
      "execution_count": 1,
      "metadata": {
        "colab": {
          "base_uri": "https://localhost:8080/"
        },
        "id": "gM3iXYCIAvAy",
        "outputId": "83222591-25aa-4cfc-dc5e-0af5cba54953"
      },
      "outputs": [
        {
          "output_type": "stream",
          "name": "stderr",
          "text": [
            "100%|██████████| 9.91M/9.91M [00:00<00:00, 18.2MB/s]\n",
            "100%|██████████| 28.9k/28.9k [00:00<00:00, 500kB/s]\n",
            "100%|██████████| 1.65M/1.65M [00:00<00:00, 3.99MB/s]\n",
            "100%|██████████| 4.54k/4.54k [00:00<00:00, 8.66MB/s]\n"
          ]
        },
        {
          "output_type": "stream",
          "name": "stdout",
          "text": [
            "Epoch 1/10, Loss: 0.0524\n",
            "Epoch 2/10, Loss: 0.0511\n",
            "Epoch 3/10, Loss: 0.0526\n",
            "Epoch 4/10, Loss: 0.0518\n",
            "Epoch 5/10, Loss: 0.0541\n",
            "Epoch 6/10, Loss: 0.0522\n",
            "Epoch 7/10, Loss: 0.0543\n",
            "Epoch 8/10, Loss: 0.0544\n",
            "Epoch 9/10, Loss: 0.0529\n",
            "Epoch 10/10, Loss: 0.0525\n",
            "Model saved as digit_gen_model.pt\n"
          ]
        }
      ],
      "source": [
        "# digit_generator_training.ipynb or .py\n",
        "# Train a conditional generator on MNIST (PyTorch)\n",
        "\n",
        "import torch\n",
        "import torch.nn as nn\n",
        "import torch.optim as optim\n",
        "from torchvision import datasets, transforms\n",
        "from torch.utils.data import DataLoader\n",
        "import numpy as np\n",
        "\n",
        "# --- Model Definition ---\n",
        "class DigitGenerator(nn.Module):\n",
        "    def __init__(self):\n",
        "        super(DigitGenerator, self).__init__()\n",
        "        self.model = nn.Sequential(\n",
        "            nn.Linear(110, 256),\n",
        "            nn.ReLU(),\n",
        "            nn.Linear(256, 512),\n",
        "            nn.ReLU(),\n",
        "            nn.Linear(512, 784),\n",
        "            nn.Sigmoid()\n",
        "        )\n",
        "\n",
        "    def forward(self, noise, labels):\n",
        "        x = torch.cat([noise, labels], dim=1)\n",
        "        return self.model(x)\n",
        "\n",
        "# --- One-hot encode labels ---\n",
        "def one_hot(labels, num_classes=10):\n",
        "    return torch.eye(num_classes)[labels]\n",
        "\n",
        "# --- Training Config ---\n",
        "batch_size = 128\n",
        "z_dim = 100\n",
        "epochs = 10\n",
        "lr = 0.001\n",
        "\n",
        "device = torch.device(\"cuda\" if torch.cuda.is_available() else \"cpu\")\n",
        "\n",
        "# --- Data Loading ---\n",
        "transform = transforms.Compose([\n",
        "    transforms.ToTensor(),\n",
        "    transforms.Lambda(lambda x: x.view(-1))  # Flatten 28x28 to 784\n",
        "])\n",
        "train_loader = DataLoader(\n",
        "    datasets.MNIST(root=\"./data\", train=True, download=True, transform=transform),\n",
        "    batch_size=batch_size,\n",
        "    shuffle=True\n",
        ")\n",
        "\n",
        "# --- Initialize Model, Optimizer, Loss ---\n",
        "model = DigitGenerator().to(device)\n",
        "optimizer = optim.Adam(model.parameters(), lr=lr)\n",
        "loss_fn = nn.MSELoss()\n",
        "\n",
        "# --- Training Loop ---\n",
        "model.train()\n",
        "for epoch in range(epochs):\n",
        "    for images, labels in train_loader:\n",
        "        images = images.to(device)\n",
        "        labels_onehot = one_hot(labels).to(device)\n",
        "        z = torch.randn(images.size(0), z_dim).to(device)\n",
        "\n",
        "        outputs = model(z, labels_onehot)\n",
        "        loss = loss_fn(outputs, images)\n",
        "\n",
        "        optimizer.zero_grad()\n",
        "        loss.backward()\n",
        "        optimizer.step()\n",
        "\n",
        "    print(f\"Epoch {epoch+1}/{epochs}, Loss: {loss.item():.4f}\")\n",
        "\n",
        "# --- Save Trained Model ---\n",
        "torch.save(model.state_dict(), \"digit_gen_model.pt\")\n",
        "print(\"Model saved as digit_gen_model.pt\")\n"
      ]
    }
  ]
}